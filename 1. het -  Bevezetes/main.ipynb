{
 "cells": [
  {
   "cell_type": "markdown",
   "metadata": {},
   "source": [
    "# 1. hét / Prológus\n"
   ]
  },
  {
   "cell_type": "code",
   "execution_count": 18,
   "metadata": {},
   "outputs": [
    {
     "name": "stdout",
     "output_type": "stream",
     "text": [
      "3.11.1 (tags/v3.11.1:a7a450f, Dec  6 2022, 19:58:39) [MSC v.1934 64 bit (AMD64)]\n"
     ]
    }
   ],
   "source": [
    "import sys\n",
    "\n",
    "print(sys.version)\n",
    "\n"
   ]
  },
  {
   "cell_type": "markdown",
   "metadata": {},
   "source": [
    "A mai órán a következőkről lesz szó:\n",
    "\n",
    "- Rövid köszöntő, a filozófiánk (~10-15 perc)\n",
    "- Bevezetés az algoritmuselméletbe (~30 perc)\n",
    "- Aritmetikai műveletek, operátorok (~30 perc)\n",
    "- Tömbműveletek (~15 perc)\n"
   ]
  },
  {
   "cell_type": "markdown",
   "metadata": {},
   "source": [
    "# 1. hét / I. Köszöntés\n"
   ]
  },
  {
   "cell_type": "markdown",
   "metadata": {},
   "source": [
    "Kedves Hallgató!\n",
    "\n",
    "Mindenekelőtt nagyon sok szeretettel köszöntelek minden kollégám nevében, akikkel ezt a kurzust tartjuk. Nagyon nagyra értékeljük, hogy érdeklődsz a számítástudományok irányt, és megtiszteltél minket azzal, hogy feltehetően az első sor kódjaidat, és ezzel együtt első komolyabb Python-projektedet velünk együtt fogod elkészíteni! Emellett azt is reméljük, hogy lesz egy csepp szabad perced, hogy az elkövetkezendő bevezetőt elolvasd a kurzusról. Ez egy általános képet fog arról adni, hogy mire is számíts a félév során, milyen lesz a kurzus struktúrája, és mi az amit remélünk, hogy később elteszel majd belőle!\n"
   ]
  },
  {
   "cell_type": "markdown",
   "metadata": {},
   "source": [
    "### Programozni megtanulni korántsem egyszerű, de azért vagyunk, hogy segítsünk!\n"
   ]
  },
  {
   "cell_type": "markdown",
   "metadata": {},
   "source": [
    "Először is elevenítsük fel a tárgy nevét: _Python mérnöki alkalmazásai_. Amit itt elsőkézben látni kell az nem más, hogy a félév végére szeretnénk megmutatni nektek számtalan érdekes - a mérnöki életben előforduló - példát, melyek megoldásához elengedhetetlen valamilyen programozói megoldás. Lehet szó egy egyszerű statika feladatmegoldó programról, vagy egy szenzoradatokat feldolgozó egységről, de akár beszélhetünk mozgásdetektálásról, képszegmentációról, emberi arcfelismerésről a gépi tanulás /_machine learning_/ forradalmi erejéig akármiről! _(És megjegyzem: minderről lesz is szó a félév során!)_. Tehát a **programozást, mint a mérnök gyakorlatban elterjedt eszközt** szeretnénk nektek bemutatni és nem azon lesz a hangsúly, hogy a számítástudomány és algoritmuselmélet, mint matematikai tudományágak mélyére evezzünk. A fő hangsúlyt a **gyakorlati problémamegoldásra** és az **általános imeretbővítésre** fektetjük.\n",
    "\n",
    "A kritikus gondolkodás kialakításához elengedhetetlen, hogy minél többet kérdezzetek és minél intenzívebben keressétek a **miért**eket! Ezét mindenkit buzdítok arra, hogy **kérdezzen sokat** és még annál is többet! Akkor is ha akár jelentéktelennek, akár nagyon földtől elrugaszkodottnak tűnik a kérdés! Elvégre rossz kérdés nincs egy sem, legfeljebb nem tudunk válaszolni, _ha megkérdezitek a P=NP probléma megoldását_.\n",
    "\n",
    "Természetesen egy - a legtöbbetek számára - teljesen idegen vízre evezni kihívásokkal teli, viszont valamennyien azért gondozzuk a tárgyat, hogy segítsük és támogassuk a fejlődéseteket! Bármilyen kérdés, probléma esetén nyugodtan keressetek meg minket privát elérhetőségeinken, közérdekű témában nyugodtan használjátok a tárgy hivatalos Teams csatornáját! A kurzus nagyjából úgy van összeállítva, hogy átlagosan **legfeljebb heti 4-5 órát** (ebbe beleértve az órai jelenlétet) **vegyen igénybe a kurzus teljesítése!** **Ha ennél lényegesen több időre van szükségetek, akkor ezt mindenképpen jelezzétek nekünk!**\n"
   ]
  },
  {
   "cell_type": "markdown",
   "metadata": {},
   "source": [
    "### Bátorítunk titeket az önálló tanulásra és szorgalmazzuk, hogy utánanézzetek mindannak ami érdekel!\n"
   ]
  },
  {
   "cell_type": "markdown",
   "metadata": {},
   "source": [
    "<p align=\"center\">\n",
    "  <img src=\"fig1.png\" />\n",
    "</p>\n",
    "\n",
    "Az önálló utánanézés kimondottan sok forrásból eredhet, végsősoron az mindennek a célja, hogy _tanulj, fejlődj, láss minél több érdekeset_ és így **ismételd át a főbb koncepciókat**, mialatt **gyakorolsz, gyakorolsz és még többet gyakorolsz**. A kutatásod sok különböző formában végezheted:\n",
    "\n",
    "- Legegyszerűbb, ha egy hibaüzenetet, problémás kérdést (angolul) bedobsz a Google keresőnek! _Nagyon kicsi a valószínűsége annak, hogy valaha olyan problémával fogsz találkozni, amivel előtted még soha senki!_ Egyébként a leggyakrabban a [Stack Overflow](https://stackoverflow.com) oldallal fogtok találkozni, egy példa: [SO - Slicing in Python](https://stackoverflow.com/questions/509211/how-slicing-in-python-works)\n",
    "\n",
    "- Az AI térhódításával együtt megjelent a mindenki által jól ismert [ChatGPT](https://openai.com/blog/chatgpt)! Kisebb kódok írására (20-30 sor + kommentek) tökéletesen alkalmas, ráadásul az összes elterjedt programozási nyelvre elérhető nem csak Pythonra!\n",
    "\n",
    "- Sajnos az utóbbi időkben egyre kevésbé elterjedt, de (különösen ritkábban használt packagek esetén) mindenképpen érdemes a _fejlesztői dokumentációkat_ böngészni! Például itt elérhető a mai anyaghoz kapcsolódó [Numpy Dokumentáció](https://numpy.org/doc/). Kötelességemnek érzem, hogy kiemeljem: hosszútávon és haladói programozói gyakorlatban a dokumentációk alapos áttekintése vezet majd el gyakorlatilag minden kérdés megválaszolásához, ugyanis ezek nagyon részletes leírásokat és számtalan példakódot tartalmaznak!\n",
    "\n",
    "- Ez a legtöbb embernek újdonság varázsával hat, de az interneten teljesen igyenes hozzáférést garantálnak az oktatási anyagaikhoz a világ legrangosabb egyetemei (MIT, Caltech, Harvard...)! Akár hivatalos honlapjaikon (MIT Opencourse), vagy különböző kurzusportálokon. _Csak kezdjük el a Google keresőbe bepötyögni, hogy \"MIT Python course...\"_\n"
   ]
  },
  {
   "cell_type": "markdown",
   "metadata": {},
   "source": [
    "# 1. hét / II. \"Hello World\"\n"
   ]
  },
  {
   "cell_type": "markdown",
   "metadata": {},
   "source": [
    "A bevezető szellemében kezdjük is az órát egy _nagyon fontos miérttel_: **Miért akarunk egyáltalán programozni?** Erre a kérdésre önmagábann nagyon sok válasszal lehetne szolgálni, viszont megragadom az alkalmat, hogy egy _mechatronikai megközelítéssel_ élve járjam körbe a kérdést. Elevenítsük fel a _Mechatronika alapjai_ tárgyon felvázolt rendszermodellt:\n",
    "\n",
    "<p align=\"center\">\n",
    "  <img src=\"fig2_system.png\" />\n",
    "</p>\n",
    "\n",
    "Leegyszerűsítve a rendszerek azt a funkciót töltik be, hogy egy megadott **bemenet**re egy elvárt **kimenet**tel szolgáljanak. Akár értelmezhetjük ezt úgy is, mintha a rendszer egy egyértelmű hozzárendelés, egy **függvény** lenne a bemenet és kimenet között! Azt a *folyamat*ot, vagy *szabályok véges sorozatá*t, melynek célja jellemzően egy specifikus problémaosztály megoldása, **algoritmus**nak nevezzük. Minden algoritmus felépíthető a következő 3 elemből: *utasítás*ok (function), *elágazás*ok (if-statement) és *ciklus*ok (loop).\n",
    "\n",
    "**Példa**\n",
    "Fűtésszezon van, Marika néni azt szeretné, hogy a lakásában a hőmérséklet 21 [°C]. Ezért egy hőmérő van telepítve.\n",
    "\n",
    "- `INPUT`: A hőmérőből származó adat: $T\\in[-273,\\infty)\\subseteq\\mathbb{R}$\n",
    "- `OUTPUT`: Menjen a fűtés, vagy sem: `true` / `false`\n",
    "- `SYSTEM`: A program egy: $T\\to\\{\\mathtt{true},\\mathtt{false}\\}$ függvény lesz, azaz minden hőmérsékletértékre _egyértelműen eldönthető_, hogy kell-e mennie a fűtésnek avagy sem. Ha a hőmérséklet kisebb, mint $21$ [°C], akkor menjen a fűtés, ha nagyobb, mint $21$ [°C], akkor ne menjen a fűtés.\n",
    "- `PROGRAM`: A hőmérő szenzor jelét rákötjük egy mikrovezérlőre. A mikrovezérlő folyamatosan figyeli a hőmérsékletet, ha `T>21` $\\to$ `false`, ha pedig `T<21` $\\to$ `true` jelet ad ki (0, vagy 1) a kazán/fűtésrendszer felé. A fűtésrendszer a `true` bement/input esetén be van kapcsolva, `false` esetén pedig ki van kapcsolva... de az már egy másik rendszer!\n",
    "\n",
    "<p align=\"center\">\n",
    "  <img src=\"fig3_system_extended.png\" />\n",
    "</p>\n",
    "\n",
    "Most írjuk meg ehhez a kódot!\n"
   ]
  },
  {
   "cell_type": "code",
   "execution_count": 19,
   "metadata": {},
   "outputs": [
    {
     "name": "stdout",
     "output_type": "stream",
     "text": [
      "Hello World!\n"
     ]
    }
   ],
   "source": [
    "print(\"Hello World!\")"
   ]
  },
  {
   "cell_type": "code",
   "execution_count": 20,
   "metadata": {},
   "outputs": [
    {
     "name": "stdout",
     "output_type": "stream",
     "text": [
      "Kapcsoljuk ki a fűtést, már elég meleg van!\n"
     ]
    }
   ],
   "source": [
    "# INPUT: T - a hőmérőből származó adat\n",
    "T = 23\n",
    "\n",
    "# Ha a hőmérséklet kisebb, mint 21 °C:\n",
    "if T < 21:\n",
    "    print(\"Kapcsoljuk be a fűtést, mert Marika néni megfagy!\")  # OUTPUT_1\n",
    "\n",
    "# Egyébként minden más esetben:\n",
    "else:\n",
    "    print(\"Kapcsoljuk ki a fűtést, már elég meleg van!\")  # OUTPUT_2"
   ]
  },
  {
   "cell_type": "markdown",
   "metadata": {},
   "source": [
    "# 1. hét / III. Változók és aritmetikai műveletek\n"
   ]
  },
  {
   "cell_type": "markdown",
   "metadata": {},
   "source": [
    "Ahogy az előzőekben is láttuk _adatokat eltárolhatunk_ **változók** segítségével. Minden változó az alábbiakkal rendelkezik:\n",
    "\n",
    "- _Név_: célszerűen _beszédes neveket_ megadni! Nem valószínű, hogy a `_6dwRζpwe3_` névből kitalálja valaki, hogy ezt a változót az Allee Intersparban egyszerre maximálisan megvásárolható zsemlék számára hoztam létre. A `maxZsemle` eggyel beszédesebb! Egyébként (Pythonban!) szinte bármilyen nevet adhatunk a változóknak, tartalmazhat akár görög, vagy japán karaktereket is, gyakorlatilag tetszőleges hosszúságúak is lehetnek. Kulcsszavakat (`def`, `if`, ...) nem adhatunk meg, nem kezdődhetnek számmal, illetve bizonyos fordítók a `!` használatát sem szeretik.\n",
    "\n",
    "- _Érték_ és _típus_: későbbiekben látni fogjuk de a _Python_ nyelvben szinte akármit eltárolhatunk változókban: egész számokat, tizedes törteket, szöveget, de akár teljes grafikonokat, képeket, vagy komplett neurális háló modelleket is! Ennek megfelelően egy változónak lehet típusa: `int`, `float`, `double`, `string`... Ezt a Python _lazán kezeli_ (kicsit precízebben a Python ún. _dynamically typed language_), egy változó deklarálásakor nem kell megadnunk a típusát. Típuskonverzióknál viszont fontos, hogy észben tartsuk a típusokat.\n",
    "\n",
    "- _Memóriaterület_: az egyes változók a _memóriában vannak eltárolva_, ezekhez úgynevezett _(memória)címek_ tartoznak. A Pythonban nem is igazán, inkább C/C++ nyelvekben érdekes róluk beszélni...\n",
    "\n",
    "Ha csak lehetséges (és ésszerű), akkor minden mennyiséghez rendeljünk egy változót! Nagyban megkönnyítik a kód átírását és az átlátását!\n"
   ]
  },
  {
   "cell_type": "code",
   "execution_count": 21,
   "metadata": {},
   "outputs": [
    {
     "name": "stdout",
     "output_type": "stream",
     "text": [
      "Az a változó értéke: 5 és típusa: <class 'int'>\n",
      "Az α változó értéke: 5 és típusa: <class 'int'>\n",
      "Az Β változó értéke: -7.2 és típusa: <class 'float'>\n",
      "Az c változó értéke: [1, 2, 3, 'cica'] és típusa: <class 'list'>\n",
      "A d változó értéke: szöveg és típusa: <class 'str'>\n"
     ]
    }
   ],
   "source": [
    "a = 5\n",
    "print(\"Az a változó értéke:\", a, \"és típusa:\", type(a))\n",
    "\n",
    "α = 5\n",
    "print(\"Az α változó értéke:\", α, \"és típusa:\", type(α))\n",
    "\n",
    "Β = -7.2\n",
    "print(\"Az Β változó értéke:\", Β, \"és típusa:\", type(Β))\n",
    "\n",
    "c = [1, 2, 3, \"cica\"]\n",
    "print(\"Az c változó értéke:\", c, \"és típusa:\", type(c))\n",
    "\n",
    "d = \"szöveg\"\n",
    "print(\"A d változó értéke:\", d, \"és típusa:\", type(d))"
   ]
  },
  {
   "cell_type": "markdown",
   "metadata": {},
   "source": [
    "## Aritmetikai (int, float) műveletek\n"
   ]
  },
  {
   "cell_type": "markdown",
   "metadata": {},
   "source": [
    "Az első és legfontosabb úgynevezett `operator`, az _értékeadás operátor_, amely nem meglepő módon a Python leggyakrabban alkalmazott operátora. Segítségével változóknak értéket adhatunk. Általános szintaktikája:`<var1> = <val>`.\n",
    "\n",
    "Fontos! Tegyük fel, hogy `a=3`. Amikor azt látjuk, hogy `a = a + 2`, akkor erre ne úgy gondoljunk, mint egy egyenlet, amit meg kell oldani `a`-ra, elvégre ennek ilyen formában semmi értelme nincs! Az előbbi kifejezés úgy fordítható le, mint _az `a` változó új értéke legyen a jelenlegi értékénél `2`-vel nagyobb szám!_ Tehát az `a = a + 2` művelet után az `a`-ban eltárolt érték `5` lesz!\n",
    "\n",
    "A gyorsabb kódolásért és a félreértések elkerülése végett a programozói gyakorlatban elterjed, _összevont alakot_ is gyakran használjuk:\n",
    "\n",
    "- `a = a + 2` $\\qquad\\rightarrow\\qquad$ `a += 2`\n",
    "- `a = a - 5` $\\qquad\\rightarrow\\qquad$ `a -= 5`\n",
    "- ...\n"
   ]
  },
  {
   "cell_type": "code",
   "execution_count": 22,
   "metadata": {},
   "outputs": [
    {
     "name": "stdout",
     "output_type": "stream",
     "text": [
      "Az a változó értéke: 5\n",
      "Az a változó értéke: 5\n",
      "Az a változó újabb értéke: 7\n",
      "Az a változó még újabb értéke: 3.5\n"
     ]
    }
   ],
   "source": [
    "# Értékadás operátor\n",
    "a = 5\n",
    "print(\"Az a változó értéke:\", a)\n",
    "print(f\"Az a változó értéke: {a}\")\n",
    "\n",
    "# Érték növelése 2-vel\n",
    "a = a + 2\n",
    "print(f\"Az a változó újabb értéke: {a}\")\n",
    "\n",
    "# Kicsit kompaktabban\n",
    "a /= 2\n",
    "print(f\"Az a változó még újabb értéke: {a}\")"
   ]
  },
  {
   "cell_type": "markdown",
   "metadata": {},
   "source": [
    "Tekintsük át az alapvető aritmetikai műveleteket: _összeadást, kivonást, szorzást, osztást_, illetve a _hatványozást_ és a _maradékos osztást_!\n"
   ]
  },
  {
   "cell_type": "code",
   "execution_count": 23,
   "metadata": {},
   "outputs": [
    {
     "name": "stdout",
     "output_type": "stream",
     "text": [
      "Az a+b művelet eredménye: 11\n",
      "Az a+b művelet eredménye: 11\n",
      "Az a-b művelet eredménye: 7\n",
      "Az a*b művelet eredménye: 18\n",
      "Az a/b művelet eredménye: 4.5\n",
      "Az a^b művelet eredménye: 81\n",
      "Az a%b művelet eredménye: 1\n",
      "Az a^b művelet eredménye: 27.040000000000003\n",
      "Az a^b művelet eredménye: 27.04\n"
     ]
    }
   ],
   "source": [
    "# Hozzunk létre még egy változót!\n",
    "a = 9\n",
    "b = 2\n",
    "\n",
    "# Összeadás\n",
    "\n",
    "c = a + b\n",
    "print(\"Az a+b művelet eredménye:\", c)  # 9 + 2 = 11\n",
    "print(f\"Az a+b művelet eredménye: {c}\")\n",
    "\n",
    "# Kivonás\n",
    "\n",
    "c = a - b\n",
    "print(f\"Az a-b művelet eredménye: {c}\")  # 9 - 2 = 7\n",
    "\n",
    "# Szorzás\n",
    "c = a * b\n",
    "print(\"Az a*b művelet eredménye:\", c)  # 9 * 2 = 18\n",
    "\n",
    "# Osztás\n",
    "c = a / b\n",
    "print(f\"Az a/b művelet eredménye: {c}\")  # 9 / 2 = 4.5\n",
    "\n",
    "# Hatványozás\n",
    "c = a**b\n",
    "print(\"Az a^b művelet eredménye:\", c)  # 9^2 = 81\n",
    "\n",
    "# Maradékos osztás\n",
    "c = a % b\n",
    "print(f\"Az a%b művelet eredménye: {c}\")  # 9 = 4*2 + 1\n",
    "\n",
    "# Kicsit más számokra:\n",
    "d = 5.2\n",
    "print(f\"Az a^b művelet eredménye: {d**b}\")\n",
    "print(f\"Az a^b művelet eredménye: {round(d**b,4)}\")"
   ]
  },
  {
   "cell_type": "markdown",
   "metadata": {},
   "source": [
    "## Összetettebb aritmetikai műveletek (Numpy bevezető)\n"
   ]
  },
  {
   "cell_type": "markdown",
   "metadata": {},
   "source": [
    "Láthatjuk, hogy alapvetően sok műveletet támogat az alapvető Python könyvtár is, viszont ha szeretnénk _logaritmust_, vagy _trigonometrikus függvényeket_ számolni (és _szeretnénk_ majd a statika házi feladatban trigonometrikus függvényekkel dolgozni), akkor bővítenünk kell az eszköztárunkat! Ezekhez a műveletekhez a `numpy` könyvtárat kell segítségül hívnunk, melyet telepíthetünk (helyi számítógépünkre) az alábbi módon:\n"
   ]
  },
  {
   "cell_type": "code",
   "execution_count": 24,
   "metadata": {},
   "outputs": [
    {
     "name": "stdout",
     "output_type": "stream",
     "text": [
      "Requirement already satisfied: numpy in c:\\users\\pc\\appdata\\local\\programs\\python\\python311\\lib\\site-packages (1.26.2)\n",
      "Note: you may need to restart the kernel to use updated packages.\n"
     ]
    }
   ],
   "source": [
    "%pip install numpy"
   ]
  },
  {
   "cell_type": "markdown",
   "metadata": {},
   "source": [
    "A `NumPy` egyébként egy az egyben tartalmazza a MATLAB programozási nyelv szinte összes függvényét. A MATLAB egy kiemelt (C-hez nagyon hasonló) programozási nyelv, különösen a mérnöki gyakorlatban, ugyanis nagyon széles matematikai eszköztárral rendelkezik. Viszont a MATLAB használatához komoly összegekért kell liszenszt vásárolni, ezért a `NumPy` készítői gyakorlatilag egy az egyben lemásolták az összes benne található függvényt és _ingyenesen elérhetővé tették mindenki számára_!\n"
   ]
  },
  {
   "cell_type": "markdown",
   "metadata": {},
   "source": [
    "A könyvtár használatához _importnálni kell_ a programunkba, ezt az `import` kulcsszóval tehetjük meg. Ezt elég egyszer megtenni, általában a _file legtetején szokott szerepelni az import lista_, ahol össze van gyűjtve minden szükséges, úgynevezett _dependency_, azaz olyan csomagok, amelyek elengedhetetlenek a program futásához.\n"
   ]
  },
  {
   "cell_type": "code",
   "execution_count": 25,
   "metadata": {},
   "outputs": [
    {
     "data": {
      "text/plain": [
       "-0.9589242746631385"
      ]
     },
     "execution_count": 25,
     "metadata": {},
     "output_type": "execute_result"
    }
   ],
   "source": [
    "import numpy as np  # Importáljuk a numpy könyvtárat a futtatókörnyezetünkbe\n",
    "\n",
    "np.sin(5)"
   ]
  },
  {
   "cell_type": "markdown",
   "metadata": {},
   "source": [
    "Innentől kezdve egy sokkal bővebb matematikai eszköztár áll rendelkezésünkre! Nézzünk is meg néhány példát abszolút értékekre, egészrész függvényekre és gyökvonásra!\n"
   ]
  },
  {
   "cell_type": "code",
   "execution_count": 26,
   "metadata": {},
   "outputs": [
    {
     "name": "stdout",
     "output_type": "stream",
     "text": [
      "Az x = -6 abszolút értéke 6\n",
      "Az x = 5.5 alsó egészrésze 5.0\n",
      "Az x = 5.5 felső egészrésze 6.0\n",
      "Az x = 5.5 négyzetgyöke 2.345207879911715\n",
      "Az x = 5.5 négyzetgyöke 2.345207879911715\n",
      "Az x = 5.5 négyzetgyöke 2.345207879911715\n"
     ]
    }
   ],
   "source": [
    "x = -6\n",
    "\n",
    "# Abszolút érték\n",
    "print(f\"Az x = {x} abszolút értéke {np.abs(x)}\")\n",
    "\n",
    "x = 5.5\n",
    "\n",
    "# Alsó és felső egészrész\n",
    "print(f\"Az x = {x} alsó egészrésze {np.floor(x)}\")\n",
    "print(f\"Az x = {x} felső egészrésze {np.ceil(x)}\")\n",
    "\n",
    "# Gyökvonás\n",
    "print(f\"Az x = {x} négyzetgyöke {np.sqrt(x)}\")\n",
    "print(f\"Az x = {x} négyzetgyöke {np.power(x, 0.5)}\")\n",
    "print(f\"Az x = {x} négyzetgyöke {np.power(x, 1/2)}\")"
   ]
  },
  {
   "cell_type": "markdown",
   "metadata": {},
   "source": [
    "A következőkben tekintsük át a trigonometrikus függvényeket!\n"
   ]
  },
  {
   "cell_type": "code",
   "execution_count": 27,
   "metadata": {},
   "outputs": [
    {
     "name": "stdout",
     "output_type": "stream",
     "text": [
      "A sin(x) értéke: 0.49999999999999994\n",
      "A cos(x) értéke: 0.8660254037844387\n",
      "A tan(x) értéke: 0.5773502691896257\n",
      "\n",
      "Az arcsin(y) értéke: 0.5235987755982989\n",
      "Az arcsin(y) értéke fokban: 30.000000000000004\n"
     ]
    }
   ],
   "source": [
    "x = np.pi / 6\n",
    "\n",
    "# Trigonometrikus függvények\n",
    "print(f\"A sin(x) értéke: {np.sin(x)}\")  # ~ 1/2\n",
    "print(f\"A cos(x) értéke: {np.cos(x)}\")  # ~ sqrt(3)/2\n",
    "print(f\"A tan(x) értéke: {np.tan(x)}\\n\")  # ~ sqrt(3)/3\n",
    "\n",
    "# Inverz trigonometrikus függvények\n",
    "y = 0.5\n",
    "print(f\"Az arcsin(y) értéke: {np.arcsin(y)}\")  # ~ pi/6 radián\n",
    "\n",
    "# Radián átváltása fokra\n",
    "print(f\"Az arcsin(y) értéke fokban: {np.rad2deg(np.arcsin(y))}\"\n",
    "      )  # pi/6 [rad] = 30 [°]"
   ]
  },
  {
   "cell_type": "markdown",
   "metadata": {},
   "source": [
    "Ezt követően nézzünk néhány példát logaritmikus függvényekre!\n"
   ]
  },
  {
   "cell_type": "code",
   "execution_count": 28,
   "metadata": {},
   "outputs": [
    {
     "name": "stdout",
     "output_type": "stream",
     "text": [
      "148.41315910257657\n",
      "Az ln(x) értéke: 5.0\n",
      "Az lg(x) értéke: 2.171472409516259\n"
     ]
    }
   ],
   "source": [
    "x = np.e**5\n",
    "print(x)\n",
    "\n",
    "# Természetes alapú logaritmus\n",
    "print(f\"Az ln(x) értéke: {np.log(x)}\")  # 5\n",
    "\n",
    "# 10-es alapú logaritmus\n",
    "print(f\"Az lg(x) értéke: {np.log10(x)}\")  # ~ 2.1 - 2.2"
   ]
  },
  {
   "cell_type": "markdown",
   "metadata": {},
   "source": [
    "**Feladat**: Próbáljuk meg kiszámolni `x` tetszőleges alapú logaritmusát!\n",
    "\n",
    "_Megjegyzés_: amikor összeállítottam ezt az órai anyagot, fogalmam sem volt ennek a függvénynek a szintaktikájáról. Őszintén kicsit meg is lepődtem, hogy bonyolultabb elérni, mint a többit... **Nem attól lesz valaki jó programozó, hogy minden függvény szintaktikáját, bemeneti paramétereit, kimeneteit kívülről fújja, sőt! A véges agykapacitásunkat használjuk inkább arra, hogy fejlesszük a problémamegoldó képességünket**; mintsem arra, hogy értelmetlen mennyiségű lexikális tudást felhalmozzunk!\n"
   ]
  },
  {
   "cell_type": "markdown",
   "metadata": {},
   "source": [
    "$\\log_ax = \\frac{\\log_bx}{\\log_ba}$     ; így is lehetne, de van beépített függvény"
   ]
  },
  {
   "cell_type": "code",
   "execution_count": 29,
   "metadata": {},
   "outputs": [
    {
     "name": "stdout",
     "output_type": "stream",
     "text": [
      "A 125 5 alapú logaritmusa: 3.0000000000000004\n"
     ]
    }
   ],
   "source": [
    "# Tetszőleges alapú logaritmust kicsit bonyolultabb írni:\n",
    "base = 5\n",
    "number = 125\n",
    "\n",
    "print(f\"A {number} {base} alapú logaritmusa: {np.emath.logn(base, number)}\")"
   ]
  },
  {
   "cell_type": "markdown",
   "metadata": {},
   "source": [
    "# 1. hét / IV. Tömbök\n"
   ]
  },
  {
   "cell_type": "markdown",
   "metadata": {},
   "source": [
    "Gyakran előfordul, hogy adatok egy _halmazát_ szeretnénk együtt, egy _konténerben_ belül kezelni. Például egy képzeljük el, hogy 15 percenként megmérjük a hőmérsékletet és ezeket az adatokat szeretnénk eltárolni egy *tömb*ben, és ezt követően szeretnénk ezt feldolgozni. Erre a Python nyelv lehetőséget kínál, sőt különböző _adatstruktúrákat_ is biztosít, hogy mindig a céljainknak megfelelő konténerben gyűjtsük össze az adatainkat:\n",
    "\n",
    "- **List** `[]`: legegyszerűbb adatstruktúra, az egyes adatok egymást követően (rendezetten) vannak elhelyezve ebben az adatstruktúrában. Tetszőleges adatot tartalmazhat (akár különböző adattípust is: számokat és szöveget). Elemei közvetlenül elérhetőek, azaz _indexelhető_ a `<lista>` változó `i`. indexű elemére a `<list>[i]` szintaktikával hivatkozhatunk. Fontos megjegyezni, hogy a lista első elemének indexe a `0`!\n",
    "\n",
    "- **Tuple** `()`: A listához hasonló adatstruktúra, ugyanúgy képes különböző típusú adatok rendezett tárolására, emellett ugyanúgy indexelhető is. Viszont a tuple _elemei nem módosíthatóak_ (_immutable_ object), ezért új elemeket hozzáadni nehézkes (de nem lehetetlen).\n",
    "\n",
    "- **Set** `{}`: Az előzőekkel ellentétben ez egy _rendezetlen_ adatstruktúra (azaz nem indexelhető), melyben _nem szerepelhet többször ugyanaz az elem_! Emiatt gyakran használják _duplicate element_ (ismétlődő elemek) szűrésre, vagy tagság tesztelésére (azaz megvizsgálni, hogy egy adott elem benne van-e egy halmazban). Emellett értelmezhetőek rajta a _matematikai halmazműveletek_, mint: metszet, unió, különbség, szimmetrikus különbség...\n",
    "\n",
    "- **Dictionary** `{}`: Ugyancsak _rendezetlen_ adatstruktúra, mely alapvetően hozzárendelések és leképezések tárolására alkalmas. Például ha statika házi feladatot szeretnénk megoldani, akkor a létrehozhatjuk az `adatok` \\*dictionary-t, melyben az adatokhoz hozzárendeljük a számértékeket: `F` $\\rightarrow$ `30` [kN], `a` $\\rightarrow$ `200` [mm], `b` $\\rightarrow$ `150` [mm] ...\n"
   ]
  },
  {
   "cell_type": "markdown",
   "metadata": {},
   "source": [
    "## Tömbműveletek\n"
   ]
  },
  {
   "cell_type": "markdown",
   "metadata": {},
   "source": [
    "Ugyan magasfokú kényelmet garantálnak az egyes adattárolók, mint mindennek, ennek is megvannak a maga hátrányai. Tömbökben feldolgozni az adatot mindig egy lépéssel összetettebb feladat lesz, ezért az alábbi fontos feladatokkal mindenképpen meg kell ismerkednünk:\n",
    "\n",
    "- Deklarálás és definiálás\n",
    "- Tömbök címzése: indexelés\n",
    "- Fontos függvények: `len()`, `max()`, `min()`, `index()`\n",
    "- Tömbök rendezése\n"
   ]
  },
  {
   "cell_type": "markdown",
   "metadata": {},
   "source": [
    "**Példa: Dupla szakítás**\n",
    "\n",
    "Marika néni unokája, _Petike_ az Anyagismeret laborban acél rudak szakítóvizsgálati mérését végezte el (L2-es labor). Az adatok kiértékeléshez Petike összegyűjtötte a `terheles[]` tömbbe a vizsgált terheléseket, viszont mialatt éppen nem figyelt, Petike most már ex-barátnője, _Suhanó Szabó_ (közismertebb nevén _Taylor Swift_) adatszemetet csúsztatott a tömbbe.\n",
    "\n",
    "Feladatok:\n",
    "\n",
    "1. Írassuk ki a tömböt elemeit a hibás adatokkal együtt.\n",
    "2. Írassuk ki külön a legelső és a legutolsó mérési eredményt is.\n",
    "3. Tudjuk, hogy az utolsó mérési eredményt írta át _Suhanó Szabó_. Módosítsuk ezt az elemet úgy, hogy $270$ [MPa] terhelésnek feleljen meg ez a pont!\n"
   ]
  },
  {
   "cell_type": "code",
   "execution_count": 30,
   "metadata": {},
   "outputs": [
    {
     "name": "stdout",
     "output_type": "stream",
     "text": [
      "A szakítóvizsgálat során az alábbi terheléseket vizsgáltuk: [0.1, 0.2, 0.5, 2, 'kétszázhúszfelett']\n",
      "Az első terhelés: 0.1 [MPa]\n",
      "Az utolsó terhelés: kétszázhúszfelett [MPa]\n",
      "A szakítóvizsgálat helyes terhelései: [0.1, 0.2, 0.5, 2, 270]\n"
     ]
    }
   ],
   "source": [
    "σ = [0.1, 0.2, 0.5, 2, \"kétszázhúszfelett\"]  # [MPa]\n",
    "\n",
    "# A print() függvénnyel könnyen kiíratható\n",
    "print(f\"A szakítóvizsgálat során az alábbi terheléseket vizsgáltuk: {σ}\")\n",
    "\n",
    "# Az elemek elérése - indexelés\n",
    "print(f\"Az első terhelés: {σ[0]} [MPa]\")  # Az indexelés mindig 0-val kezdődik!\n",
    "print(f\"Az utolsó terhelés: {σ[-1]} [MPa]\"\n",
    "      )  # Az indexelés hátulról mindig -1-el kezdődik!\n",
    "\n",
    "# Elem módosítása\n",
    "σ[-1] = 270\n",
    "print(f\"A szakítóvizsgálat helyes terhelései: {σ}\")"
   ]
  },
  {
   "cell_type": "markdown",
   "metadata": {},
   "source": [
    "Most, hogy kijavítottuk az adatokat, folytathatjuk az adatok feldolgozását!\n",
    "\n",
    "4. Először számoljuk össze hány mérést végeztünk!\n",
    "5. Petike utólag észrevette, hogy $7$ mérést kell feltüntetni a jegyzőkönyvben. Adjunk hozzá két új mérést a tömbhöz! Az egyik legyen a $0.7$, másik legyen az $5$!\n",
    "6. Keressük meg a maximumát az újonnan kapott tömbnek!\n",
    "7. Rendezzük a tömböt!\n"
   ]
  },
  {
   "cell_type": "code",
   "execution_count": 31,
   "metadata": {},
   "outputs": [
    {
     "name": "stdout",
     "output_type": "stream",
     "text": [
      "Összesen 5 mérést végzett Petike!\n",
      "Az újonnan kapott terhelések tömbje: [0.1, 0.2, 0.5, 2, 270, 0.7, 5]\n"
     ]
    }
   ],
   "source": [
    "# Tömbök hossza\n",
    "print(f\"Összesen {len(σ)} mérést végzett Petike!\")\n",
    "\n",
    "# Elemek hozzáadása tömbökhöz\n",
    "σ.append(0.7)\n",
    "σ += [5]\n",
    "print(f\"Az újonnan kapott terhelések tömbje: {σ}\")"
   ]
  },
  {
   "cell_type": "code",
   "execution_count": 32,
   "metadata": {},
   "outputs": [
    {
     "name": "stdout",
     "output_type": "stream",
     "text": [
      "A legnagyobb terhelés a 5. mérésnél volt, 270 [MPa]\n",
      "[0.1, 0.2, 0.5, 0.7, 2, 5, 270]\n"
     ]
    }
   ],
   "source": [
    "# Maximum/minimum megkeresése\n",
    "maxTerheles = max(σ)\n",
    "maxHely = σ.index(maxTerheles)\n",
    "print(f\"A legnagyobb terhelés a {maxHely + 1}. mérésnél volt, {maxTerheles} [MPa]\")\n",
    "\n",
    "# Tömbök rendezése\n",
    "σ.sort()\n",
    "print(σ)\n"
   ]
  },
  {
   "cell_type": "markdown",
   "metadata": {},
   "source": [
    "## Stringműveletek\n"
   ]
  },
  {
   "cell_type": "markdown",
   "metadata": {},
   "source": [
    "A `string`-ek feldolgozása központi feladat a programozási gyakorlat során, bár hozzá kell tenni, hogy túlzottan komoly szükségünk nem lesz ezekre a félév során. Mindenesetre gyakorlatilag kötelező, hogy ezekről mindenki halljon és az alapvető metódusok létezésével tisztában legyen!\n",
    "\n",
    "A `\"string\"` adattípus az `'` és `\"` karakterek segítségével válnak elérhetővé, többsoros szöveg esetén a `\"\"\" <szöveg> \"\"\"` szintaxist használjuk. A tömbökhöz hasonlóan indexelhetőek, speciális tulajdonságuk, hogy rendezettek (és legyenek is azok)! Felülírni viszont csak a `.replace()` metódussal lehet.\n",
    "\n",
    "Fontos metódusok:\n",
    "\n",
    "- `.capitalize()` - A string első karakterét nagybetűvé, minden más karakterét kisbetűvé írja át.\n",
    "- `.count()` - Megszámolja egy adott karakter/substring előfordulását az adott stringben.\n",
    "- `.find()` - Megkeres egy adott karaktert/substringet és visszatér a helyével.\n",
    "- `.lower()` - A teljes stringet kisbetűvel írja át.\n",
    "- `.replace()` - Kicseréli a string egy adott részét egy másik stringre.\n",
    "- `.split()` - Szétszed egy stringet megadott elválasztó karakter alapján.\n",
    "- `.upper()` - A teljes stringet nagybetűvel írja át.\n"
   ]
  },
  {
   "cell_type": "code",
   "execution_count": 33,
   "metadata": {},
   "outputs": [
    {
     "name": "stdout",
     "output_type": "stream",
     "text": [
      "kübekcsakra\n",
      "Kübekcsakra\n",
      "KÜBEKCSAKRA\n",
      "KÜBEKCSAKRA\n",
      "kübekcsakra\n",
      "Kübekcsakra\n",
      "['Van', 'egy', 'alma', 'a', 'fán!']\n",
      "4\n",
      "1\n",
      "1\n",
      "Nincs egy alma a fán!\n"
     ]
    }
   ],
   "source": [
    "# Definiáljuk a kezdeti stringet\n",
    "szoveg = \"kübekcsakra\"\n",
    "print(szoveg)\n",
    "\n",
    "print(szoveg.capitalize())\n",
    "print(szoveg.upper())\n",
    "szoveg = szoveg.upper()\n",
    "print(szoveg)\n",
    "print(szoveg.lower())\n",
    "szoveg = szoveg.capitalize()\n",
    "print(szoveg)\n",
    "\n",
    "mondat = \"Van egy alma a fán!\"\n",
    "print(mondat.split())\n",
    "print(mondat.count(\" \"))\n",
    "print(mondat.count(\"an\"))\n",
    "print(mondat.find(\"an\"))\n",
    "print(mondat.replace(\"Van\", \"Nincs\"))\n"
   ]
  },
  {
   "cell_type": "markdown",
   "metadata": {},
   "source": [
    "### Indexelés stringekben\n"
   ]
  },
  {
   "cell_type": "markdown",
   "metadata": {},
   "source": [
    "A tömbökhöz hasonlóan, a stringek is indexelhetőek, ami ugyanúgy `0`-val kezdődik. Amit érdemes itt áttekinteni (révén a stringeknél az egyik leglátványosabb, de a rendes tömbökre is működik) az az úgynevezett _slicing_. A tömbökből kiválaszthatok adott részeket az alábbi módon: `tomb[<kezd> : <veg> : <lepes>]`. Azaz a `<kezd>` indextől a `<veg>` indexig (és azt már nem beleértve) kiválaszthatjuk adott `<lepes>` lépésközzel az egyes betűket:\n",
    "\n",
    "- `\"nukleárizs\"[:]` $\\rightarrow$ `\"nukleárizs\"`\n",
    "- `\"nukleárizs\"[1:4]` $\\rightarrow$ `\"ukl\"`\n",
    "- `\"nukleárizs\"[0:6:2]` $\\rightarrow$ `\"nke\"`\n",
    "\n",
    "Ezzel a módszerrel egyébként könnyen megfordíthatjuk a stringeket!\n",
    "\n",
    "- `\"alma\"[::-1]` $\\rightarrow$ `\"amla\"`\n"
   ]
  },
  {
   "cell_type": "code",
   "execution_count": 34,
   "metadata": {},
   "outputs": [
    {
     "name": "stdout",
     "output_type": "stream",
     "text": [
      "kübekcsakra\n",
      "übe\n",
      "kübekcsakra\n",
      "üka\n",
      "kbkska\n",
      "arkasckebük\n"
     ]
    }
   ],
   "source": [
    "szoveg = \"kübekcsakra\"\n",
    "print(szoveg)\n",
    "\n",
    "# Slicing\n",
    "print(szoveg[1:4])\n",
    "print(szoveg[:])\n",
    "print(szoveg[1:8:3])\n",
    "print(szoveg[::2])\n",
    "\n",
    "# String megfordítása\n",
    "print(szoveg[::-1])\n"
   ]
  },
  {
   "cell_type": "markdown",
   "metadata": {},
   "source": [
    "# 1.hét / Epilógus\n"
   ]
  },
  {
   "cell_type": "markdown",
   "metadata": {},
   "source": [
    "### Szorgalmi feladatok\n"
   ]
  },
  {
   "cell_type": "markdown",
   "metadata": {},
   "source": [
    "Az órai anyaghoz kapcsolódó gyakorló feladatok a Teamsen elérhetőek a _PMA_gyak1.pdf_ dokumentumban! Ahhoz, hogy minél jobban rögzüljenek az órán tanultak, feltétlen javaslom, hogy gyakoroljatok amennyit csak időtök engedi! Némi útmutatás a feladatgyűjteményhez: három csoportba vannak sorolva a feladatok:\n",
    "\n",
    "- **Bevezető feladatok**: rövid (2-3 sor kód) és nagyon egyszerű példák, melyek az órai anyag áttekintését segítik elő. Minden különálló anyagrészhez (aritmetikai műveletek, összetettebb aritmetikai műveletek (numpy), tömbműveletek...) tartozik egy bevzető feladat. Körülbelül _2-3 perc_ időt vesznek igénybe egyenként, és tartalmaznak _megoldásokat_!\n",
    "\n",
    "- **Gyakorló feladatok**: az a bevezető feladatoknál egy lépéssel összetettebb feladatok, melyekben több különböző anyagrészt is fel kell használni. Ha valaki ezeket a feladatokat megoldja, egy komolyabb megértést tud szerezni az anyagról! Ezek a feladatok is tartalmaznak _megoldásokat_!\n",
    "\n",
    "- **Ajánlott feladatok**: komolyabb kihívást jelentő feladatok, melyek jellemzően túl is mutatnak az órai anyagon. Megoldásukhoz több ötletelés, internetes kutakodás szükséges. Ezekhez _nem tartozik megoldás_, viszont ha valaki próbálkozott megoldani a feladatokat, akkor kérés esetén nagyon szívesen bemutatom a saját megoldásaimat!\n",
    "\n",
    "Kérlek benneteket, hogy különösen az első hetekben a **bevezető példákat mindenképpen nézzétek át óráról órára**, különben könnyen lemaradhattok és a következő órákon elveszve érezhetitek magatokat. Másik jó tanács, hogy _használjátok a megoldókulcsot_, de ne intézzétek el annyival a problémát, hogy _\"hát értem mi van oda írva, tehát kész a feladat\"_! A **kódot mindenképpen gépeljétek be és próbáljátok ki**, akár több bemenetre is!\n"
   ]
  },
  {
   "cell_type": "markdown",
   "metadata": {},
   "source": [
    "### Hasznos anyagok:\n"
   ]
  },
  {
   "cell_type": "markdown",
   "metadata": {},
   "source": [
    "- Dokumentációk\n",
    "  - Python hivatalos dokumentációja: https://docs.python.org/3/\n",
    "  - [PEP 8](https://peps.python.org/pep-0008/) Style Guide for Python Code - Melyek a jó és rossz programozási praktikák\n",
    "  - NumPy hivatalos dokumentációja: https://numpy.org/doc/1.25/\n",
    "- Tankönyvek\n",
    "  - [Dive Into Python 3](http://diveintopython3.problemsolving.io/)\n",
    "  - [Dive into Deep Learning](https://d2l.ai/) - Interaktív tankönyv Deep Learninghez\n",
    "  - [Fluent Python: Clear, Concise, and Effective Programming by Luciano Ramalho](https://www.oreilly.com/library/view/fluent-python/9781491946237/) - Haladóbb szemléletű Python programozás\n",
    "- Útmutatók\n",
    "  - [The Official Python Tutorial](https://docs.python.org/3/tutorial/) - Self-explanatory?\n",
    "  - [Foglalt Keyword lista](https://docs.python.org/3.0/reference/lexical_analysis.html#id8) - Ezeket ne használd változónévnek!\n",
    "  - [Codecademy](https://www.codecademy.com/catalog) - Interaktív (fizetős) online tutorial\n",
    "  - [CheckIO](https://py.checkio.org/) - Tanulj Pythont játékfejlesztésen kersztül\n",
    "- Competitive Programming\n",
    "  - [Codewars](https://www.codewars.com/?language=python)\n",
    "  - [CodeForces](https://codeforces.com/)\n"
   ]
  },
  {
   "cell_type": "markdown",
   "metadata": {},
   "source": [
    "### Elérhetőség\n"
   ]
  },
  {
   "cell_type": "markdown",
   "metadata": {},
   "source": [
    "Bármilyen kérdés, kérés vagy probléma esetén keressetek minket az alábbi elérhetőségeken:\n",
    "\n",
    "- Monori Bence - m.bence02@outlook.hu\n",
    "- Wenesz Dominik - weneszdominik@gmail.com\n",
    "\n",
    "Illetve anonim üzenetküldésre is lehetőséget biztosítunk, ezt az alábbi linken tudjátok elérni: https://forms.gle/6VtGvhja3gq6CTT66\n"
   ]
  }
 ],
 "metadata": {
  "kernelspec": {
   "display_name": "base",
   "language": "python",
   "name": "python3"
  },
  "language_info": {
   "codemirror_mode": {
    "name": "ipython",
    "version": 3
   },
   "file_extension": ".py",
   "mimetype": "text/x-python",
   "name": "python",
   "nbconvert_exporter": "python",
   "pygments_lexer": "ipython3",
   "version": "3.11.1"
  },
  "orig_nbformat": 4
 },
 "nbformat": 4,
 "nbformat_minor": 2
}
