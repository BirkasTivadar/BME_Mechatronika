{
 "cells": [
  {
   "cell_type": "markdown",
   "metadata": {},
   "source": [
    "### Importok"
   ]
  },
  {
   "cell_type": "code",
   "execution_count": 1,
   "metadata": {},
   "outputs": [],
   "source": [
    "import numpy as np\n"
   ]
  },
  {
   "cell_type": "markdown",
   "metadata": {},
   "source": [
    "### 1 Bevezető feladatok"
   ]
  },
  {
   "cell_type": "markdown",
   "metadata": {},
   "source": [
    "#### 1.2 Változók és aritmetikai műveletek - Számtani és mértani közép\n"
   ]
  },
  {
   "cell_type": "markdown",
   "metadata": {},
   "source": [
    "Hozzunk létre két (a és b) változót, melyekben két egész számot tárolunk el. Határozzuk meg\n",
    "ezen két szám számtani és mértani átalát! Ellenőrizzük a számtani és mértani közepek közti\n",
    "egyenlőtlenséget!"
   ]
  },
  {
   "cell_type": "code",
   "execution_count": 2,
   "metadata": {},
   "outputs": [
    {
     "name": "stdout",
     "output_type": "stream",
     "text": [
      "13 és 21 számtani közepe: 17.0\n",
      "13 és 21 mértani közepe: 16.522711641858304\n",
      "13 és 21 számtani és mértani közepének különbsége: 0.47728835814169557\n"
     ]
    }
   ],
   "source": [
    "a = 13\n",
    "b = 21\n",
    "\n",
    "szamtaniKozep = (a + b) / 2\n",
    "mertaniKozep = np.sqrt(a * b)\n",
    "\n",
    "print(f\"{a} és {b} számtani közepe: {szamtaniKozep}\")\n",
    "print(f\"{a} és {b} mértani közepe: {mertaniKozep}\")\n",
    "print(\n",
    "    f\"{a} és {b} számtani és mértani közepének különbsége: {szamtaniKozep - mertaniKozep}\"\n",
    ")"
   ]
  },
  {
   "cell_type": "markdown",
   "metadata": {},
   "source": [
    "#### 1.3 Változók és aritmetikai műveletek - Azonosságok"
   ]
  },
  {
   "cell_type": "markdown",
   "metadata": {},
   "source": [
    "Hozzunk létre két (x és y) változót, melyekben két valós számot tárolunk el. (A két valós\n",
    "szám két szög nagyságát reprezentálja.) Ellenőrizzük az alábbi trigonometrikus és logaritmikus\n",
    "azonosságokat:\n",
    "- $\\sin(x)^2$ + $\\cos(x)^2$ = 1\n",
    "- cos(x + y) = cos(x)·cos(y) − sin(x)·sin(y)\n",
    "- ln (x·y) = y·ln(x)"
   ]
  },
  {
   "cell_type": "code",
   "execution_count": 21,
   "metadata": {},
   "outputs": [
    {
     "name": "stdout",
     "output_type": "stream",
     "text": [
      "sin(x)^2 + cos(x)^2 = 0.9999999999999999\n",
      "cos(x + y): 0.8438539587 = 0.8438539587: cos(x)·cos(y) − sin(x)·sin(y)\n",
      "ln(x·y): 11.266065387038703 = 11.266065387038703: y·ln(x)\n"
     ]
    }
   ],
   "source": [
    "x = 5\n",
    "y = 7\n",
    "\n",
    "print(\n",
    "    f\"sin(x)^2 + cos(x)^2 = {np.square(np.sin(x)) + np.square(np.cos(x))}\")\n",
    "print(\n",
    "    f\"cos(x + y): {round(np.cos(x+y), 10)} = {round(np.cos(x)*np.cos(y) - np.sin(x)*np.sin(y), 10)}: cos(x)·cos(y) − sin(x)·sin(y)\"\n",
    ")\n",
    "print(f\"ln(x·y): {np.log(np.power(x,y))} = {y*np.log(x)}: y·ln(x)\")"
   ]
  },
  {
   "cell_type": "markdown",
   "metadata": {},
   "source": [
    "#### 1.4 Tömbök - Maximumkeresés"
   ]
  },
  {
   "cell_type": "markdown",
   "metadata": {},
   "source": [
    "Hozzunk létre egy tetszőleges homerseklet `[]` tömböt, melyben tároljunk el (legalább 2) float\n",
    "típusú számot. Keressük meg és írjuk ki a tömb maximumát és azt, hogy hányas indexű ez az\n",
    "elem!"
   ]
  },
  {
   "cell_type": "code",
   "execution_count": 15,
   "metadata": {},
   "outputs": [
    {
     "name": "stdout",
     "output_type": "stream",
     "text": [
      "A tömb maximumértéke: 21.34\n",
      "A maximumérték a 3. helyen található.\n"
     ]
    }
   ],
   "source": [
    "tomb = [1.2, 3.4, 21.34, 5.6, 10.0]\n",
    "maxErtek = max(tomb)\n",
    "maxIndex = tomb.index(maxErtek)\n",
    "print(f\"A tömb maximumértéke: {maxErtek}\")\n",
    "print(f\"A maximumérték a {maxIndex+1}. helyen található.\")"
   ]
  },
  {
   "cell_type": "markdown",
   "metadata": {},
   "source": [
    "#### 1.5 Tömbök - Gyümölcsök"
   ]
  },
  {
   "cell_type": "markdown",
   "metadata": {},
   "source": [
    "Hozzunk létre két (gyumolcs_1 és gyumolcs_2) változót, melyekben két string adatot tárolunk\n",
    "el. (Például gyumolcs_1 = \"alma\" és gyumolcs_2 = \"korte\".) Fűzzük össze a két stringet\n",
    "úgy, hogy a gyumolcs_1 változó minden karaktere nagybetűvel szedett, míg a gyumolcs_2\n",
    "változó tartalmát megfordítjuk! (Azaz az eredmény itt \"ALMAetrok\".)"
   ]
  },
  {
   "cell_type": "code",
   "execution_count": 16,
   "metadata": {},
   "outputs": [
    {
     "name": "stdout",
     "output_type": "stream",
     "text": [
      "ALMAetrok\n"
     ]
    }
   ],
   "source": [
    "gyumolcs_1 = \"alma\"\n",
    "gyumolcs_2 = \"korte\"\n",
    "\n",
    "print(gyumolcs_1.upper() + gyumolcs_2[::-1])"
   ]
  },
  {
   "cell_type": "markdown",
   "metadata": {},
   "source": [
    "### 2 Gyakorló feladatok"
   ]
  },
  {
   "cell_type": "markdown",
   "metadata": {},
   "source": [
    "#### 2.1 Gyorsulások"
   ]
  },
  {
   "cell_type": "markdown",
   "metadata": {},
   "source": [
    "Adott a térben egy m tömegű, pontszerűnek tekinthető test, amelyre adott F_1, F_2 és F_3\n",
    "erők hatnak. Számítsuk ki az egyes ax, ay és az gyorsuláskomponenseket! Adott dt idő alatt\n",
    "mennyivel változik meg a test sebessége?"
   ]
  },
  {
   "cell_type": "code",
   "execution_count": 25,
   "metadata": {},
   "outputs": [
    {
     "name": "stdout",
     "output_type": "stream",
     "text": [
      "A gyorsuláskomponensek: ax = 2.4 m/s^2, ay = 4.2 m/s^2, az = 1.2 m/s^2\n",
      "Az 5 g tömegű test sebessége 9 másodperc alatt 44.8558 m/s-ot változik\n"
     ]
    }
   ],
   "source": [
    "m = 5\n",
    "F_1 = 12\n",
    "F_2 = 21\n",
    "F_3 = 6\n",
    "\n",
    "ax = F_1 / m\n",
    "ay = F_2 / m\n",
    "az = F_3 / m\n",
    "print(f\"A gyorsuláskomponensek: ax = {ax} m/s^2, ay = {ay} m/s^2, az = {az} m/s^2\")\n",
    "\n",
    "a = np.sqrt(np.square(ax) + np.square(ay)+np.square(az))\n",
    "dt = 9\n",
    "print(f\"Az {m} g tömegű test sebessége {dt} másodperc alatt {round(a*dt, 4)} m/s-ot változik\")"
   ]
  },
  {
   "cell_type": "markdown",
   "metadata": {},
   "source": [
    "#### 2.2 Relativisztikus gyorsulások"
   ]
  },
  {
   "cell_type": "markdown",
   "metadata": {},
   "source": [
    "Ismeretes, hogy a fénysebességgel összemérhető sebességeken a Newtoni mechanika axiómái\n",
    "elérik a határaikat, és figyelembe kell vennünk a relativisztikus hatásokat. Az egyik fontos\n",
    "relativisztikus hatás az úgynevezett relativisztikus tömegváltozás, amely azt mondja ki, hogy\n",
    "ha a test nyugalmi tömege m_0, sebessége pedig a megfigyelőhöz képest v, akkor a megfigyelő\n",
    "rendszerében a test tömege:\n",
    "\n",
    "$m = \\frac{m_{0}}{\\sqrt[]{1-\\frac{v^2}{c^2}}}$\n",
    "\n",
    "Számoljuk ki a fénysebesség 10%, 50%, 90% és 99%-nál a relativisztikus tömegeket! Az egyes\n",
    "sebességeken hány százalékkal tér el a relativisztikus tömeg a nyugalmi tömegtől? Gondolkodjunk el azon, hogy mekkora eltérés esetén érezzük úgy, hogy még eltekinthetünk a relativisztikus\n",
    "hatásoktól?"
   ]
  },
  {
   "cell_type": "code",
   "execution_count": 43,
   "metadata": {},
   "outputs": [
    {
     "name": "stdout",
     "output_type": "stream",
     "text": [
      "12 g nyugalmi tömegű test tömege a fénysebesség\n",
      "10%-nál: 12.060453783110544\n",
      "50%-nál: 13.85640646055102\n",
      "90%-nál: 27.529888064467407\n",
      "99%-nál: 85.06574460100049\n"
     ]
    }
   ],
   "source": [
    "m0 = 12\n",
    "c = 299792458\n",
    "v01 = c / 10\n",
    "v05 = c / 2\n",
    "v09 = c * 0.9\n",
    "v099 = c * 0.99\n",
    "\n",
    "m01 = m0 / np.sqrt(1 - (v01 * v01) / (c * c))\n",
    "m05 = m0 / np.sqrt(1 - (v05 * v05) / (c * c))\n",
    "m09 = m0 / np.sqrt(1 - (v09 * v09) / (c * c))\n",
    "m099 = m0 / np.sqrt(1 - (v099 * v099) / (c * c))\n",
    "print(\n",
    "    f\"{m0} g nyugalmi tömegű test tömege a fénysebesség\\n10%-nál: {m01}\\n50%-nál: {m05}\\n90%-nál: {m09}\\n99%-nál: {m099}\"\n",
    ")"
   ]
  }
 ],
 "metadata": {
  "kernelspec": {
   "display_name": "base",
   "language": "python",
   "name": "python3"
  },
  "language_info": {
   "codemirror_mode": {
    "name": "ipython",
    "version": 3
   },
   "file_extension": ".py",
   "mimetype": "text/x-python",
   "name": "python",
   "nbconvert_exporter": "python",
   "pygments_lexer": "ipython3",
   "version": "3.11.1"
  },
  "orig_nbformat": 4
 },
 "nbformat": 4,
 "nbformat_minor": 2
}
