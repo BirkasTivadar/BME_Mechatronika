{
 "cells": [
  {
   "cell_type": "markdown",
   "metadata": {},
   "source": [
    "# Kinetikus gázmodell szimulációja"
   ]
  },
  {
   "cell_type": "markdown",
   "metadata": {},
   "source": [
    "## Feladatkitűzés\n",
    "\n",
    "A *kinetikus gázelmélet* egyike a legegyszerűbb modelleknek, melynek segítségével a gázok termo- és hidrodinamikai viselkedése leírható. Segítségével a gázok legfőbb *makroszkópikus jellemzői* megmagyarázhatóak, így például a *nyomás, térfogat, hőmérséklet*, vagy éppenséggel a *viszkozitás* és a *diffúzió*. \n",
    "\n",
    "Az **ideális gáz**t definiáljuk mint, nagyszámú, apró, gyorsmozgású golyók halmaza, melyek rendezetlen mozgásukkal - egymással és a tárolóedény falával rugalmasan ütközve - kitöltik a rendelkezésükre álló teret.\n",
    "\n",
    "**Az ideális gázok modellje**:\n",
    "- A részecskék száma kellően nagy ahhoz, hogy a *statisztikai leírás indokolt legyen* és a részecskék által kitöltött térfogat *homogén hőmérsékleteloszlású* legyen. `Sok... `\n",
    "- Az ideális gáz részecskéi *nagyon kicsik*. Azaz a részecskék össztérfogata elhanyagolható a tárolóedény űrtartalmához képest. `...pici... `\n",
    "- A gyorsmozgású részecskék egymással és az edény falával is folyamatosan, *pillanatszerűen és rugalmasan ütköznek*. Így a részecskéket modellezhetjük tökéletesen tömör gömbökként. `...piros pont száguldozik és ütközik... `\n",
    "- Az ütközéseket leszámítva, a részecskék közti egyéb kölcsönhatásoktól eltekintünk. `...és kész.`\n",
    "\n",
    "Rugalmas ütközés során, könnyen belátható, hogy az alábbiak szerint alakulnak az ütközés utáni sebeségek:\n",
    "$\\begin{equation} \\mathbf{u}_1 = \\mathbf{v}_1 - \\frac{(\\mathbf{v}_1-\\mathbf{v}_2)\\cdot(\\mathbf{r}_1-\\mathbf{r}_2)}{|\\mathbf{r}_1-\\mathbf{r}_2|^2}\\cdot(\\mathbf{r}_1-\\mathbf{r}_2) \\tag{1.1}\\end{equation}$\n",
    "$\\begin{equation} \\mathbf{u}_2 = \\mathbf{v}_2 - \\frac{(\\mathbf{v}_2-\\mathbf{v}_1)\\cdot(\\mathbf{r}_2-\\mathbf{r}_1)}{|\\mathbf{r}_1-\\mathbf{r}_2|^2}\\cdot(\\mathbf{r}_2-\\mathbf{r}_1) \\tag{1.2}\\end{equation}$\n",
    "Ahol:\n",
    "- $\\mathbf{r}_i\\in\\mathbb{R}^2$ az $i$. indexű részecske helye\n",
    "- $\\mathbf{v}_i\\in\\mathbb{R}^2$ az $i$. indexű részecske sebessége az ütközés előtt\n",
    "- $\\mathbf{u}_i\\in\\mathbb{R}^2$ az $i$. indexű részecske sebessége az ütközés után\n",
    "\n",
    "Feladatunk a modell elkészítése és vizualizációja `Matplotlib` library segítségével:\n",
    "<p align=\"center\">\n",
    "  <img src=\"output.png?\" width=\"400\" />\n",
    "</p>"
   ]
  },
  {
   "cell_type": "markdown",
   "metadata": {},
   "source": [
    "## Megoldás"
   ]
  },
  {
   "cell_type": "markdown",
   "metadata": {},
   "source": [
    "### Szükséges importok a feladatmegoldáshoz"
   ]
  },
  {
   "cell_type": "code",
   "execution_count": 34,
   "metadata": {},
   "outputs": [],
   "source": [
    "import numpy as np                              # Alapvető matematikai eszköztár\n",
    "import matplotlib.pyplot as plt                 # Plotoláshoz\n",
    "import matplotlib\n",
    "from matplotlib import animation                # Animációk készítéséhez\n",
    "from matplotlib.animation import PillowWriter   # .gif formátumba való exportáláshoz\n",
    "from itertools import combinations"
   ]
  },
  {
   "cell_type": "markdown",
   "metadata": {},
   "source": [
    "### Kezdeti paraméterek inicializálása"
   ]
  },
  {
   "cell_type": "markdown",
   "metadata": {},
   "source": [
    "Minden fizikai szimuláció kezdetekor **inicializáljuk az összes szükséges paramétert**! A kulcsmondat: `Sok, pici, piros pont száguldozik és ütközik és kész.` Azaz definiáljuk a részecskék számát, a részecskék méretét, emellett a helyét és a sebességét is!\n",
    "\n",
    "Random számokat (egyenletes eloszlás alapján) az `np.random.random()` függvény segítségével tudunk generálni. Fontos, hogy ez a függvény $0$ és $1$ között egy *valós számot* generál! Az `np.random.uniform()` segítségével tetszőleges intervallumon tudunk random számokat generálni.\n",
    "\n",
    "*<span style=\"color:teal\">Megjegyzés: a kódolás elején célszerű inkább kevesebb és nagyobb pontot tekinteni! Több ezer pont esetén több 10 percet is igénybevehet a szimuláció lefutása, ez pedig nagyban megnehezíti a debuggolást!</span>* "
   ]
  },
  {
   "cell_type": "markdown",
   "metadata": {},
   "source": [
    "$\\begin{bmatrix} 425 \\\\ -651 \\end{bmatrix}$"
   ]
  },
  {
   "cell_type": "code",
   "execution_count": 35,
   "metadata": {},
   "outputs": [],
   "source": [
    "# Az adatok definiálása\n",
    "N = 100         # Részecskék száma\n",
    "radius = 0.05   # Részecskék mérete\n",
    "\n",
    "\n",
    "# Helyvektorok (R^2) inicializálása\n",
    "r = np.random.random(\n",
    "    (2, N)\n",
    ")  # 0....1, A helypozíciókat egy 2 elemű, egyenként 100 számot tartalmazó tömben tároljuk, ahol az első százas tömbben az x, a másodikban az y koordináták szerepelnek\n",
    "\n",
    "\n",
    "# Sebességvektorok (R^2) inicializálása\n",
    "v = np.random.uniform(\n",
    "    -500, 500, (2, N)\n",
    ")  # az attribútumok közül a harmadiknál (a zárójelen belüli) azt adom meg, hogy két tömböt szeretnék, mindegyikben N db véletlenül generált számmal\n",
    "\n",
    "\n",
    "# Felcímkézzük az egyes pontokat\n",
    "IDs = np.arange(N)"
   ]
  },
  {
   "cell_type": "markdown",
   "metadata": {},
   "source": [
    "Ezt követően ábrázoljuk a kezdeti állapotot!"
   ]
  },
  {
   "cell_type": "code",
   "execution_count": 36,
   "metadata": {},
   "outputs": [
    {
     "data": {
      "image/png": "[encoded data removed]",
      "text/plain": [
       "<Figure size 500x500 with 1 Axes>"
      ]
     },
     "metadata": {},
     "output_type": "display_data"
    }
   ],
   "source": [
    "# Kezdeti állapot megjelenítése\n",
    "plt.figure(figsize=(5, 5))\n",
    "plt.scatter(r[0], r[1], color=\"r\", s=5)  # r[0] az x, r[1] az y koordináta\n",
    "\n",
    "plt.show()"
   ]
  },
  {
   "cell_type": "markdown",
   "metadata": {},
   "source": [
    "### Ütközések szimulációja"
   ]
  },
  {
   "cell_type": "markdown",
   "metadata": {},
   "source": [
    "A `Sok, pici, piros pont száguldozik és ütközik és kész.` kulcsmondat `Sok, pici, piros pont száguldozik` részét már sikeresen teljesítettük! Most pedig jöhet az `ütközik`, ami már egy fokkal bonyolultabb lépésekből áll.\n",
    "\n",
    "Járjunk el a következő módon:\n",
    "- **1. lépés**: Határozzuk meg az összes pontpár közti távolságot!\n",
    "$$ d = \\sqrt{\\Delta x^2 + \\Delta y^2}$$\n",
    "- **2. lépés**: Ha $d < 2r$, akkor a rugalmas ütközés egyenletei alapján kiszámoljuk az új sebességeket.\n",
    "- **3. lépés**: Ha a tárolóedény falával ütközik a részecske, akkor a falra merőleges sebességkomponens előjelet vált.\n",
    "\n",
    "Így már tudjuk modellezni a mozgást!"
   ]
  },
  {
   "cell_type": "markdown",
   "metadata": {},
   "source": [
    "#### 1. lépés: Pontpárok távolságának meghatározása"
   ]
  },
  {
   "cell_type": "markdown",
   "metadata": {},
   "source": [
    "<p align=\"center\">\n",
    "  <img src=\"maneuver.png?\" width=\"400\" />\n",
    "</p>\n",
    "\n",
    "Páronként minden pont távolságát meg kell vizsgálnunk ahhoz, hogy eldöntsük, mely részecskék fognak ütközni. Ebben most mélyedjünk el egy pillanatra: $N=100$ pont esetén ez $100\\cdot 99/2 = 4950$ távolságot definiál, $N=1000$ pontra ez már $499.500$ párt jelent! Tehát amíg $10$-szeresére növeltük a részecskék számát, a vizsgálandó párok száma $100$-szeresére, azaz $10^2$-szeresére nőtt!\n",
    "\n",
    "A Computer Science nyelvén azt mondjuk, hogy ezen algoritmus komplexitása $\\mathcal O(n^2)$ (ordó n-négyzetes, vagy kvadratikus idejű). Az $\\mathcal O(n^2)$ komplexitás egyébként kimondottan rossz, és lassú futást eredményez nagy $N$ esetén. \n",
    "\n",
    "Az algoritmuselméletben az alábbi komplexitásokkal találkozhatunk gyakran:\n",
    "- Gyors futási idő: $\\mathcal O(1)$, $\\mathcal O(\\log n)$, $\\mathcal O(\\sqrt{n})$\n",
    "- Közepes futási idő: $\\mathcal O(n)$, $\\mathcal O(n\\log n)$\n",
    "- Lassú futási idő: $\\mathcal O(n^2)$, $\\mathcal O(n^3)$, $\\mathcal O(2^n)$, $\\mathcal O(n!)$"
   ]
  },
  {
   "cell_type": "code",
   "execution_count": 37,
   "metadata": {},
   "outputs": [
    {
     "name": "stdout",
     "output_type": "stream",
     "text": [
      "[[ 0  1]\n",
      " [ 0  2]\n",
      " [ 0  3]\n",
      " ...\n",
      " [97 98]\n",
      " [97 99]\n",
      " [98 99]]\n",
      "[[0.95392875 0.29065343]\n",
      " [0.95392875 0.2684532 ]\n",
      " [0.95392875 0.00514992]\n",
      " ...\n",
      " [0.83621424 0.10264119]\n",
      " [0.83621424 0.80945422]\n",
      " [0.10264119 0.80945422]]\n",
      "[-0.66327532 -0.68547555 -0.94877883 ... -0.73357305 -0.02676002\n",
      "  0.70681303]\n",
      "[0.72204289 0.68813313 0.96234466 ... 0.74816042 0.50365278 0.79136929]\n"
     ]
    }
   ],
   "source": [
    "# Felírjuk az összes párosítást\n",
    "particalPairs = np.asarray(list(combinations(IDs, 2)))\n",
    "print(particalPairs)\n",
    "\n",
    "\n",
    "\n",
    "# Felírjuk az egyes pontok x és y koordinátáit\n",
    "\n",
    "\n",
    "xPairs = np.array(\n",
    "    [r[0][particalPairs[:, 0]], r[0][particalPairs[:, 1]]]\n",
    ").T  # a pontpárokból készítek két olyan tömböt, amely az egyes párosítások x koordinátáit tartalmazza azonos indexen;  Úgy adom át az np.array-nek, hogy előtte egy tömbjelzésbe csomagolom\n",
    "yPairs = np.array(\n",
    "    [r[1][particalPairs[:, 0]], r[1][particalPairs[:, 1]]]\n",
    ").T  # ugyanez y koordinátákkal pepitában;\n",
    "# a .T transzponálással a két egyenként 4950 elemet tartalmazó tömbből készít 4950 elemű egyenként két elemet tartalmazó tömböt\n",
    "print(xPairs)\n",
    "\n",
    "\n",
    "# Kiszámítjuk x és y irányban az eltéréseket\n",
    "\n",
    "ΔxPairs = np.diff(\n",
    "    xPairs, axis=1\n",
    ").ravel()  # ravel(), hogy az egyes számokat ne tömbbe helyezve tárolja\n",
    "ΔyPairs = np.diff(yPairs, axis=1).ravel()\n",
    "print(ΔxPairs)\n",
    "\n",
    "\n",
    "# Ezt követően Pitagorasz-tétellel adódik a távolság\n",
    "dPairs = np.sqrt(ΔxPairs**2 + ΔyPairs**2)\n",
    "print(dPairs)"
   ]
  },
  {
   "cell_type": "markdown",
   "metadata": {},
   "source": [
    "#### 2. lépés: Ütközések modellezése"
   ]
  },
  {
   "cell_type": "markdown",
   "metadata": {},
   "source": [
    "Feltételezzük, hogy azon részecskék fognak ütközni, melyek távolsága kisebb, mint $2r$, amikor már a részecskék egymásban lennének. A kinetikus gázmodellben feltételezzük az *energia-*, *lendület-* és *perdületmegmaradás*t, ezért a gázrészecskék között **pillanatszerű, rugalmas ütközés**t teszünk fel. \n",
    "\n",
    "Rugalmas ütközés során, könnyen belátható, hogy az alábbiak szerint alakulnak az ütközés utáni sebeségek:\n",
    "$\\begin{equation} \\mathbf{u}_1 = \\mathbf{v}_1 - \\frac{(\\mathbf{v}_1-\\mathbf{v}_2)\\cdot(\\mathbf{r}_1-\\mathbf{r}_2)}{|\\mathbf{r}_1-\\mathbf{r}_2|^2}\\cdot(\\mathbf{r}_1-\\mathbf{r}_2) \\tag{1.1}\\end{equation}$\n",
    "$\\begin{equation} \\mathbf{u}_2 = \\mathbf{v}_2 - \\frac{(\\mathbf{v}_2-\\mathbf{v}_1)\\cdot(\\mathbf{r}_2-\\mathbf{r}_1)}{|\\mathbf{r}_1-\\mathbf{r}_2|^2}\\cdot(\\mathbf{r}_2-\\mathbf{r}_1) \\tag{1.2}\\end{equation}$\n"
   ]
  },
  {
   "cell_type": "code",
   "execution_count": 38,
   "metadata": {},
   "outputs": [
    {
     "name": "stdout",
     "output_type": "stream",
     "text": [
      "[[ 0 56]\n",
      " [ 1 19]\n",
      " [ 1 35]\n",
      " [ 1 90]\n",
      " [ 2 87]\n",
      " [ 3 33]\n",
      " [ 4  9]\n",
      " [ 4 50]\n",
      " [ 4 84]\n",
      " [ 5 74]\n",
      " [ 6 36]\n",
      " [ 6 45]\n",
      " [ 6 46]\n",
      " [ 8 17]\n",
      " [ 8 48]\n",
      " [ 8 58]\n",
      " [ 8 86]\n",
      " [10 29]\n",
      " [10 32]\n",
      " [11 66]\n",
      " [11 79]\n",
      " [12 24]\n",
      " [12 42]\n",
      " [12 54]\n",
      " [12 72]\n",
      " [13 18]\n",
      " [13 40]\n",
      " [13 88]\n",
      " [13 99]\n",
      " [14 37]\n",
      " [14 53]\n",
      " [14 75]\n",
      " [14 85]\n",
      " [15 51]\n",
      " [16 20]\n",
      " [16 25]\n",
      " [16 71]\n",
      " [16 82]\n",
      " [16 87]\n",
      " [16 93]\n",
      " [16 94]\n",
      " [17 48]\n",
      " [17 78]\n",
      " [18 34]\n",
      " [18 40]\n",
      " [18 72]\n",
      " [18 79]\n",
      " [18 88]\n",
      " [18 99]\n",
      " [19 35]\n",
      " [20 71]\n",
      " [20 82]\n",
      " [20 87]\n",
      " [20 94]\n",
      " [21 29]\n",
      " [21 37]\n",
      " [21 53]\n",
      " [21 69]\n",
      " [22 62]\n",
      " [23 28]\n",
      " [23 41]\n",
      " [23 49]\n",
      " [24 34]\n",
      " [24 42]\n",
      " [24 54]\n",
      " [24 66]\n",
      " [24 72]\n",
      " [25 87]\n",
      " [25 91]\n",
      " [25 93]\n",
      " [26 47]\n",
      " [26 55]\n",
      " [26 73]\n",
      " [26 96]\n",
      " [26 98]\n",
      " [28 41]\n",
      " [28 49]\n",
      " [29 32]\n",
      " [29 53]\n",
      " [29 69]\n",
      " [29 85]\n",
      " [30 34]\n",
      " [30 56]\n",
      " [30 72]\n",
      " [31 58]\n",
      " [31 80]\n",
      " [31 82]\n",
      " [31 86]\n",
      " [31 94]\n",
      " [32 69]\n",
      " [33 64]\n",
      " [34 42]\n",
      " [34 54]\n",
      " [34 56]\n",
      " [34 72]\n",
      " [36 43]\n",
      " [36 45]\n",
      " [36 67]\n",
      " [36 71]\n",
      " [37 53]\n",
      " [37 75]\n",
      " [37 85]\n",
      " [38 77]\n",
      " [40 79]\n",
      " [40 88]\n",
      " [40 99]\n",
      " [41 49]\n",
      " [42 54]\n",
      " [42 66]\n",
      " [42 72]\n",
      " [43 67]\n",
      " [43 71]\n",
      " [47 55]\n",
      " [47 58]\n",
      " [47 80]\n",
      " [47 86]\n",
      " [47 96]\n",
      " [52 74]\n",
      " [53 75]\n",
      " [54 66]\n",
      " [54 72]\n",
      " [55 57]\n",
      " [55 73]\n",
      " [55 96]\n",
      " [55 98]\n",
      " [57 64]\n",
      " [57 96]\n",
      " [58 80]\n",
      " [58 86]\n",
      " [59 70]\n",
      " [60 91]\n",
      " [61 73]\n",
      " [61 98]\n",
      " [63 81]\n",
      " [63 92]\n",
      " [68 91]\n",
      " [68 93]\n",
      " [68 96]\n",
      " [71 82]\n",
      " [71 94]\n",
      " [73 98]\n",
      " [75 85]\n",
      " [76 97]\n",
      " [79 88]\n",
      " [79 99]\n",
      " [80 86]\n",
      " [80 94]\n",
      " [81 92]\n",
      " [82 94]\n",
      " [88 99]]\n"
     ]
    }
   ],
   "source": [
    "# Ütköző párok meghatározása\n",
    "collidePairs = particalPairs[dPairs < 2 * radius]\n",
    "print(collidePairs)\n",
    "\n",
    "\n",
    "\n",
    "# Sebességek definiálása\n",
    "v1 = v[:, collidePairs[:, 0]]\n",
    "v2 = v[:, collidePairs[:, 1]]\n",
    "\n",
    "\n",
    "# Helyvektorok definiálása\n",
    "r1 = r[:, collidePairs[:, 0]]\n",
    "r2 = r[:, collidePairs[:, 1]]\n",
    "\n",
    "\n",
    "\n",
    "# Az új sebességek\n",
    "u1 = v1 - (((v1 - v2) * (r1 - r2).sum(axis=0)) / np.sum((r1 - r2) ** 2, axis=0)) * (\n",
    "    r1 - r2\n",
    ")\n",
    "u2 = v2 - (((v2 - v1) * (r2 - r1).sum(axis=0)) / np.sum((r2 - r1) ** 2, axis=0)) * (\n",
    "    r2 - r1\n",
    ")\n"
   ]
  },
  {
   "cell_type": "markdown",
   "metadata": {},
   "source": [
    "#### Segéd lépés: Eddigiek összefoglalása függvényekbe"
   ]
  },
  {
   "cell_type": "code",
   "execution_count": 39,
   "metadata": {},
   "outputs": [],
   "source": [
    "def Δxy_pairs(x, particle_pairs):\n",
    "    return np.diff(\n",
    "        np.array([x[particle_pairs[:, 0]], x[particle_pairs[:, 1]]]).T, axis=1\n",
    "    ).ravel()\n",
    "\n",
    "\n",
    "def d_pairs(r, particle_pairs):\n",
    "    return np.sqrt(\n",
    "        Δxy_pairs(r[0], particle_pairs) ** 2 + Δxy_pairs(r[1], particle_pairs)\n",
    "    )\n",
    "\n",
    "\n",
    "def collision(v1, v2, r1, r2):\n",
    "    u1 = v1 - ((v1 - v2) * (r1 - r2)).sum(axis=0) / np.sum((r1 - r2) ** 2, axis=0) * (\n",
    "        r1 - r2\n",
    "    )\n",
    "    u2 = v2 - ((v2 - v1) * (r2 - r1)).sum(axis=0) / np.sum((r1 - r2) ** 2, axis=0) * (\n",
    "        r2 - r1\n",
    "    )\n",
    "    return u1, u2"
   ]
  },
  {
   "cell_type": "markdown",
   "metadata": {},
   "source": [
    "#### 3. lépés: A mozgás leírása\n",
    "Az animációt úgy készítjük el, hogy egy `t` \"időtartamot\", `dt` lépésközökkel végigjárunk. Az `r` és `v` változókban mindig egy adott aktuális állapotot tárolunk el, és ezeket összefüzzük egy `t` lépés hosszú tömbbökbe: `R`, `V`.\n",
    "\n",
    "Amit minden `i`. iterációs lépésben meg kell vizsgálnunk:\n",
    "- Mely részecskék fognak ütközni egymással? Mi lesz utána a sebességük?\n",
    "- Mely részecskék fognak ütközni a fallal? Mi lesz utána a sebességük?\n",
    "- Ha adottak a sebességek, akkor egyenesen vonalú egyenletes mozgással haladnak tovább a részecskék `dt` ideig: $\\Delta r = v \\cdot \\Delta t$\n",
    "- Ezáltal megkapjuk az aktuális `r[i]` és `v[i]` állapotokat, amiket az `R` és `V` sorozatokhoz hozzáfűzünk."
   ]
  },
  {
   "cell_type": "code",
   "execution_count": 40,
   "metadata": {},
   "outputs": [],
   "source": [
    "def motion(t, dt, r, v, radius, particalPairs):  # t az iterációs lépések száma\n",
    "    # Inicializálás\n",
    "    R = np.zeros((t, r.shape[0], r.shape[1]))\n",
    "    V = np.zeros((t, v.shape[0], v.shape[1]))\n",
    "\n",
    "    # Kezdeti állapotok\n",
    "    R[0] = r.copy()\n",
    "    V[0] = v.copy()\n",
    "\n",
    "    # A megadott időlépéseken végig iterálunk\n",
    "    for i in range(1, t):\n",
    "        # Ütközés egymással\n",
    "        cP = particalPairs[d_pairs(r, particalPairs) < 2 * radius]\n",
    "        v1 = v[:, cP[:, 0]]\n",
    "        v2 = v[:, cP[:, 1]]\n",
    "        r1 = r[:, cP[:, 0]]\n",
    "        r2 = r[:, cP[:, 1]]\n",
    "        v1, v2 = collision(v1, v2, r1, r2)\n",
    "        # Ütközés a fallal\n",
    "        v[0, r[0] > 1] *= -1\n",
    "        v[0, r[0] < 0] *= -1\n",
    "        v[1, r[1] > 1] *= -1\n",
    "        v[1, r[1] < 0] *= -1\n",
    "\n",
    "        # Adott időegység alatt egyenes vonalon végzett egyenletes mozgás\n",
    "        r += v * dt\n",
    "\n",
    "        R[i] = r.copy()\n",
    "        V[i] = v.copy()\n",
    "    return R, V"
   ]
  },
  {
   "cell_type": "markdown",
   "metadata": {},
   "source": [
    "### Szimuláció\n",
    "Most már nincsen semmi dolgunk, csak összefoglalni az eddig megírt kódot és futtatni a szimulációt! Javaslom, hogy tekintsük át mik a bemenetei a rendszerre és milyen kimenetet szeretnénk látni! A kulcsmondat továbbra is: `Sok, pici, piros pont szágoldozik és ütközik és kész!`\n",
    "\n",
    "Tehát a bemenetek:\n",
    "- `sok`: részecskék száma - `N`\n",
    "- `pici`: részecskék mérete - `radius`\n",
    "- `száguldozik`: a részecskék helye - `r` és sebessége - `v`\n",
    "- `ütközik`: a részecskepárok ütköznek - `particlePairs`\n",
    "\n",
    "A kimenet pedig a mozgás maga lesz, azaz `t` idő alatt az `r` helyekből és `v` sebességekből álló sorozat: `R`, `V`"
   ]
  },
  {
   "cell_type": "code",
   "execution_count": 41,
   "metadata": {},
   "outputs": [
    {
     "name": "stderr",
     "output_type": "stream",
     "text": [
      "C:\\Users\\Pc\\AppData\\Local\\Temp\\ipykernel_12200\\1684220219.py:8: RuntimeWarning: invalid value encountered in sqrt\n",
      "  return np.sqrt(\n"
     ]
    }
   ],
   "source": [
    "# Az adatok definiálása\n",
    "N = 1000  # Részecskék száma\n",
    "radius = 0.0015  # Részecskék sugara\n",
    "\n",
    "# Helyvektorok (R^2) inicializálása\n",
    "r = np.random.random((2, N))  # N db R^2-beli vektor\n",
    "\n",
    "# Sebességvektorok (R^2) inicializálása\n",
    "v = np.random.uniform(-750, 750, (2, N))  # N db R^2-beli vektor\n",
    "\n",
    "# Felcímkézzük az egyes pontokat\n",
    "IDs = np.arange(N)\n",
    "\n",
    "# Elkészítjük a részecskepárokat\n",
    "particle_pairs = np.asarray(list(combinations(IDs, 2)))\n",
    "\n",
    "# Szimuláljuk a mozgást\n",
    "R, V = motion(t = 1000, dt = 0.000008, radius = radius, particalPairs = particalPairs, r = r, v = v)"
   ]
  },
  {
   "cell_type": "markdown",
   "metadata": {},
   "source": [
    "### Animáció"
   ]
  },
  {
   "cell_type": "code",
   "execution_count": 42,
   "metadata": {},
   "outputs": [
    {
     "data": {
      "image/png": "[encoded data removed]",
      "text/plain": [
       "<Figure size 500x500 with 1 Axes>"
      ]
     },
     "metadata": {},
     "output_type": "display_data"
    }
   ],
   "source": [
    "fig, ax = plt.subplots(1, 1, figsize=(5, 5))\n",
    "\n",
    "x, y = R[0][0], R[0][1]\n",
    "circles = [plt.Circle((xi, yi), radius = radius, linewidth = 0) for xi, yi in zip(x, y)]\n",
    "cred = matplotlib.collections.PatchCollection(circles, facecolors = \"red\")\n",
    "ax.add_collection(cred)\n",
    "ax.set_xlim(0, 1)\n",
    "ax.set_ylim(0, 1)\n",
    "plt.show()"
   ]
  },
  {
   "cell_type": "code",
   "execution_count": 43,
   "metadata": {},
   "outputs": [
    {
     "data": {
      "image/png": "[encoded data removed]",
      "text/plain": [
       "<Figure size 500x500 with 1 Axes>"
      ]
     },
     "metadata": {},
     "output_type": "display_data"
    }
   ],
   "source": [
    "fig, ax = plt.subplots(1, 1, figsize=(5, 5))\n",
    "\n",
    "\n",
    "def animate(i):\n",
    "    ax.clear()\n",
    "    x, y = R[i][0], R[i][1]\n",
    "    circles = [\n",
    "        plt.Circle((xi, yi), radius = 2 * radius, linewidth = 0) for xi, yi in zip(x, y)\n",
    "    ]\n",
    "    cred = matplotlib.collections.PatchCollection(circles, facecolors = \"red\")\n",
    "    ax.add_collection(cred)\n",
    "    ax.set_xlim(0, 1)\n",
    "    ax.set_ylim(0, 1)\n",
    "\n",
    "\n",
    "ani = animation.FuncAnimation(fig, animate, frames = 1000, interval = 50)\n",
    "ani.save(\"kinetic_gas3.gif\", writer=\"pillow\", fps = 30, dpi = 100)"
   ]
  },
  {
   "cell_type": "markdown",
   "metadata": {},
   "source": [
    "# Epilógus"
   ]
  },
  {
   "cell_type": "markdown",
   "metadata": {},
   "source": [
    "### Hasznos anyagok:"
   ]
  },
  {
   "cell_type": "markdown",
   "metadata": {},
   "source": [
    "- Dokumentációk\n",
    "    - Python hivatalos dokumentációja: https://docs.python.org/3/\n",
    "    - [PEP 8](https://peps.python.org/pep-0008/) Style Guide for Python Code - Melyek a jó és rossz programozási praktikák\n",
    "    - NumPy hivatalos dokumentációja: https://numpy.org/doc/1.25/\n",
    "- Tankönyvek\n",
    "    - [Dive Into Python 3](http://diveintopython3.problemsolving.io/)\n",
    "    - [Dive into Deep Learning](https://d2l.ai/) - Interaktív tankönyv Deep Learninghez\n",
    "    - [Fluent Python: Clear, Concise, and Effective Programming by Luciano Ramalho](https://www.oreilly.com/library/view/fluent-python/9781491946237/) - Haladóbb szemléletű Python programozás\n",
    "- Útmutatók\n",
    "    - [The Official Python Tutorial](https://docs.python.org/3/tutorial/) - Self-explanatory?\n",
    "    - [Foglalt Keyword lista](https://docs.python.org/3.0/reference/lexical_analysis.html#id8) - Ezeket ne használd változónévnek!\n",
    "    - [Codecademy](https://www.codecademy.com/catalog) - Interaktív (fizetős) online tutorial\n",
    "    - [CheckIO](https://py.checkio.org/) - Tanulj Pythont játékfejlesztésen kersztül\n",
    "- Competitive Programming\n",
    "    - [Codewars](https://www.codewars.com/?language=python)\n",
    "    - [CodeForces](https://codeforces.com/)"
   ]
  },
  {
   "cell_type": "markdown",
   "metadata": {},
   "source": [
    "### Elérhetőség"
   ]
  },
  {
   "cell_type": "markdown",
   "metadata": {},
   "source": [
    "Bármilyen kérdés, kérés vagy probléma esetén keressetek minket az alábbi elérhetőségeken:\n",
    "- Monori Bence - m.bence02@outlook.hu\n",
    "- Wenesz Dominik - weneszdominik@gmail.com\n",
    "\n",
    "Illetve anonim üzenetküldésre is lehetőséget biztosítunk, ezt az alábbi linken tudjátok elérni: https://forms.gle/6VtGvhja3gq6CTT66"
   ]
  }
 ],
 "metadata": {
  "kernelspec": {
   "display_name": "base",
   "language": "python",
   "name": "python3"
  },
  "language_info": {
   "codemirror_mode": {
    "name": "ipython",
    "version": 3
   },
   "file_extension": ".py",
   "mimetype": "text/x-python",
   "name": "python",
   "nbconvert_exporter": "python",
   "pygments_lexer": "ipython3",
   "version": "3.11.1"
  },
  "orig_nbformat": 4
 },
 "nbformat": 4,
 "nbformat_minor": 2
}
